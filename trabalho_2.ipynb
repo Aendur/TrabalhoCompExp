{
 "cells": [
  {
   "cell_type": "code",
   "execution_count": 100,
   "metadata": {},
   "outputs": [],
   "source": [
    "import pandas as pd\n",
    "import seaborn as sbs\n",
    "import matplotlib.pyplot as plt\n",
    "import numpy as np\n",
    "\n",
    "from sklearn.model_selection import train_test_split\n",
    "from sklearn.ensemble import RandomForestClassifier\n",
    "from sklearn.naive_bayes import GaussianNB\n",
    "from sklearn.metrics import classification_report, plot_confusion_matrix\n",
    "\n",
    "from keras.models import Model, Sequential\n",
    "from keras.layers import LSTM, Dense"
   ]
  },
  {
   "cell_type": "code",
   "execution_count": 53,
   "metadata": {},
   "outputs": [],
   "source": [
    "def generate_np_data(dataframe_X, dataframe_Y, look_back, predict_forward, N, categorize = False):\n",
    "    X = []\n",
    "    Y = []\n",
    "    \n",
    "    dataframe_X = np.array(dataframe_X)\n",
    "    dataframe_Y = np.array(dataframe_Y)\n",
    "    \n",
    "    for i in range(N - look_back - predict_forward):\n",
    "        x_ = dataframe_X[i:i+look_back]\n",
    "        y_ = dataframe_Y[i+look_back - 1 + predict_forward]\n",
    "        \n",
    "        if not np.isnan(x_).any() and not np.isnan(y_).any():\n",
    "            X.append(x_)\n",
    "            \n",
    "            if categorize:\n",
    "                Y.append(1 if y_ > 0 else 0)\n",
    "            else:\n",
    "                Y.append(y_)\n",
    " \n",
    "    \n",
    "    return np.array(X), np.array(Y)"
   ]
  },
  {
   "cell_type": "code",
   "execution_count": 97,
   "metadata": {},
   "outputs": [],
   "source": [
    "def get_model_lstm(n_steps, n_features):\n",
    "    model = Sequential()\n",
    "    \n",
    "    model.add(LSTM(128, input_shape=(n_steps, n_features)))\n",
    "\n",
    "    model.add(Dense(1, activation = 'sigmoid'))\n",
    "    \n",
    "    model.compile(optimizer='rmsprop', loss='binary_crossentropy', metrics =['acc'])\n",
    "    \n",
    "    return model"
   ]
  },
  {
   "cell_type": "markdown",
   "metadata": {},
   "source": [
    "---"
   ]
  },
  {
   "cell_type": "markdown",
   "metadata": {},
   "source": [
    "# Loading Data|"
   ]
  },
  {
   "cell_type": "code",
   "execution_count": 2,
   "metadata": {},
   "outputs": [],
   "source": [
    "# https://www.kaggle.com/PROPPG-PPG/hourly-weather-surface-brazil-southeast-region\n",
    "data = pd.read_csv(\"sudeste.csv\")"
   ]
  },
  {
   "cell_type": "code",
   "execution_count": 3,
   "metadata": {},
   "outputs": [
    {
     "data": {
      "text/html": [
       "<div>\n",
       "<style scoped>\n",
       "    .dataframe tbody tr th:only-of-type {\n",
       "        vertical-align: middle;\n",
       "    }\n",
       "\n",
       "    .dataframe tbody tr th {\n",
       "        vertical-align: top;\n",
       "    }\n",
       "\n",
       "    .dataframe thead th {\n",
       "        text-align: right;\n",
       "    }\n",
       "</style>\n",
       "<table border=\"1\" class=\"dataframe\">\n",
       "  <thead>\n",
       "    <tr style=\"text-align: right;\">\n",
       "      <th></th>\n",
       "      <th>wsid</th>\n",
       "      <th>elvt</th>\n",
       "      <th>lat</th>\n",
       "      <th>lon</th>\n",
       "      <th>yr</th>\n",
       "      <th>mo</th>\n",
       "      <th>da</th>\n",
       "      <th>hr</th>\n",
       "      <th>prcp</th>\n",
       "      <th>stp</th>\n",
       "      <th>...</th>\n",
       "      <th>tmax</th>\n",
       "      <th>dmax</th>\n",
       "      <th>tmin</th>\n",
       "      <th>dmin</th>\n",
       "      <th>hmdy</th>\n",
       "      <th>hmax</th>\n",
       "      <th>hmin</th>\n",
       "      <th>wdsp</th>\n",
       "      <th>wdct</th>\n",
       "      <th>gust</th>\n",
       "    </tr>\n",
       "  </thead>\n",
       "  <tbody>\n",
       "    <tr>\n",
       "      <th>count</th>\n",
       "      <td>9.779168e+06</td>\n",
       "      <td>9.779168e+06</td>\n",
       "      <td>9.779168e+06</td>\n",
       "      <td>9.779168e+06</td>\n",
       "      <td>9.779168e+06</td>\n",
       "      <td>9.779168e+06</td>\n",
       "      <td>9.779168e+06</td>\n",
       "      <td>9.779168e+06</td>\n",
       "      <td>1.407984e+06</td>\n",
       "      <td>9.779168e+06</td>\n",
       "      <td>...</td>\n",
       "      <td>9.779142e+06</td>\n",
       "      <td>9.778858e+06</td>\n",
       "      <td>9.779134e+06</td>\n",
       "      <td>9.778361e+06</td>\n",
       "      <td>9.779168e+06</td>\n",
       "      <td>9.779156e+06</td>\n",
       "      <td>9.779124e+06</td>\n",
       "      <td>8.853607e+06</td>\n",
       "      <td>9.779168e+06</td>\n",
       "      <td>9.462694e+06</td>\n",
       "    </tr>\n",
       "    <tr>\n",
       "      <th>mean</th>\n",
       "      <td>3.592531e+02</td>\n",
       "      <td>5.940923e+02</td>\n",
       "      <td>-2.023082e+01</td>\n",
       "      <td>-4.464590e+01</td>\n",
       "      <td>2.011164e+03</td>\n",
       "      <td>6.521960e+00</td>\n",
       "      <td>1.575465e+01</td>\n",
       "      <td>1.150000e+01</td>\n",
       "      <td>9.366544e-01</td>\n",
       "      <td>8.804292e+02</td>\n",
       "      <td>...</td>\n",
       "      <td>2.110503e+01</td>\n",
       "      <td>1.524025e+01</td>\n",
       "      <td>1.986418e+01</td>\n",
       "      <td>1.422089e+01</td>\n",
       "      <td>6.726667e+01</td>\n",
       "      <td>6.996991e+01</td>\n",
       "      <td>6.441965e+01</td>\n",
       "      <td>1.998156e+00</td>\n",
       "      <td>1.385991e+02</td>\n",
       "      <td>4.494015e+00</td>\n",
       "    </tr>\n",
       "    <tr>\n",
       "      <th>std</th>\n",
       "      <td>3.901630e+01</td>\n",
       "      <td>3.980379e+02</td>\n",
       "      <td>3.172643e+00</td>\n",
       "      <td>4.882117e+00</td>\n",
       "      <td>3.207774e+00</td>\n",
       "      <td>3.425538e+00</td>\n",
       "      <td>8.802154e+00</td>\n",
       "      <td>6.922190e+00</td>\n",
       "      <td>2.923291e+00</td>\n",
       "      <td>2.482650e+02</td>\n",
       "      <td>...</td>\n",
       "      <td>7.545549e+00</td>\n",
       "      <td>5.866811e+00</td>\n",
       "      <td>7.134849e+00</td>\n",
       "      <td>5.777089e+00</td>\n",
       "      <td>2.654213e+01</td>\n",
       "      <td>2.643371e+01</td>\n",
       "      <td>2.656550e+01</td>\n",
       "      <td>1.618531e+00</td>\n",
       "      <td>1.052018e+02</td>\n",
       "      <td>2.981790e+00</td>\n",
       "    </tr>\n",
       "    <tr>\n",
       "      <th>min</th>\n",
       "      <td>1.780000e+02</td>\n",
       "      <td>0.000000e+00</td>\n",
       "      <td>-2.496282e+01</td>\n",
       "      <td>-5.667732e+01</td>\n",
       "      <td>2.000000e+03</td>\n",
       "      <td>1.000000e+00</td>\n",
       "      <td>1.000000e+00</td>\n",
       "      <td>0.000000e+00</td>\n",
       "      <td>0.000000e+00</td>\n",
       "      <td>0.000000e+00</td>\n",
       "      <td>...</td>\n",
       "      <td>-3.200000e+00</td>\n",
       "      <td>-1.000000e+01</td>\n",
       "      <td>-8.500000e+00</td>\n",
       "      <td>-1.000000e+01</td>\n",
       "      <td>0.000000e+00</td>\n",
       "      <td>0.000000e+00</td>\n",
       "      <td>0.000000e+00</td>\n",
       "      <td>0.000000e+00</td>\n",
       "      <td>0.000000e+00</td>\n",
       "      <td>0.000000e+00</td>\n",
       "    </tr>\n",
       "    <tr>\n",
       "      <th>25%</th>\n",
       "      <td>3.280000e+02</td>\n",
       "      <td>2.830000e+02</td>\n",
       "      <td>-2.239580e+01</td>\n",
       "      <td>-4.743410e+01</td>\n",
       "      <td>2.009000e+03</td>\n",
       "      <td>4.000000e+00</td>\n",
       "      <td>8.000000e+00</td>\n",
       "      <td>5.000000e+00</td>\n",
       "      <td>0.000000e+00</td>\n",
       "      <td>9.113000e+02</td>\n",
       "      <td>...</td>\n",
       "      <td>1.820000e+01</td>\n",
       "      <td>1.270000e+01</td>\n",
       "      <td>1.720000e+01</td>\n",
       "      <td>1.160000e+01</td>\n",
       "      <td>5.300000e+01</td>\n",
       "      <td>5.800000e+01</td>\n",
       "      <td>4.900000e+01</td>\n",
       "      <td>8.000000e-01</td>\n",
       "      <td>5.600000e+01</td>\n",
       "      <td>2.300000e+00</td>\n",
       "    </tr>\n",
       "    <tr>\n",
       "      <th>50%</th>\n",
       "      <td>3.580000e+02</td>\n",
       "      <td>5.730000e+02</td>\n",
       "      <td>-2.075041e+01</td>\n",
       "      <td>-4.445378e+01</td>\n",
       "      <td>2.011000e+03</td>\n",
       "      <td>7.000000e+00</td>\n",
       "      <td>1.600000e+01</td>\n",
       "      <td>1.200000e+01</td>\n",
       "      <td>0.000000e+00</td>\n",
       "      <td>9.442000e+02</td>\n",
       "      <td>...</td>\n",
       "      <td>2.190000e+01</td>\n",
       "      <td>1.660000e+01</td>\n",
       "      <td>2.080000e+01</td>\n",
       "      <td>1.560000e+01</td>\n",
       "      <td>7.400000e+01</td>\n",
       "      <td>7.800000e+01</td>\n",
       "      <td>7.000000e+01</td>\n",
       "      <td>1.700000e+00</td>\n",
       "      <td>1.140000e+02</td>\n",
       "      <td>4.200000e+00</td>\n",
       "    </tr>\n",
       "    <tr>\n",
       "      <th>75%</th>\n",
       "      <td>3.940000e+02</td>\n",
       "      <td>8.750000e+02</td>\n",
       "      <td>-1.891707e+01</td>\n",
       "      <td>-4.243575e+01</td>\n",
       "      <td>2.014000e+03</td>\n",
       "      <td>9.000000e+00</td>\n",
       "      <td>2.300000e+01</td>\n",
       "      <td>1.800000e+01</td>\n",
       "      <td>6.000000e-01</td>\n",
       "      <td>9.731000e+02</td>\n",
       "      <td>...</td>\n",
       "      <td>2.580000e+01</td>\n",
       "      <td>1.940000e+01</td>\n",
       "      <td>2.420000e+01</td>\n",
       "      <td>1.840000e+01</td>\n",
       "      <td>8.900000e+01</td>\n",
       "      <td>9.100000e+01</td>\n",
       "      <td>8.600000e+01</td>\n",
       "      <td>2.900000e+00</td>\n",
       "      <td>2.160000e+02</td>\n",
       "      <td>6.300000e+00</td>\n",
       "    </tr>\n",
       "    <tr>\n",
       "      <th>max</th>\n",
       "      <td>4.230000e+02</td>\n",
       "      <td>1.758000e+03</td>\n",
       "      <td>0.000000e+00</td>\n",
       "      <td>0.000000e+00</td>\n",
       "      <td>2.016000e+03</td>\n",
       "      <td>1.200000e+01</td>\n",
       "      <td>3.100000e+01</td>\n",
       "      <td>2.300000e+01</td>\n",
       "      <td>1.000000e+02</td>\n",
       "      <td>1.050000e+03</td>\n",
       "      <td>...</td>\n",
       "      <td>4.500000e+01</td>\n",
       "      <td>4.480000e+01</td>\n",
       "      <td>4.500000e+01</td>\n",
       "      <td>4.490000e+01</td>\n",
       "      <td>1.000000e+02</td>\n",
       "      <td>1.000000e+02</td>\n",
       "      <td>1.000000e+02</td>\n",
       "      <td>1.980000e+01</td>\n",
       "      <td>3.600000e+02</td>\n",
       "      <td>5.000000e+01</td>\n",
       "    </tr>\n",
       "  </tbody>\n",
       "</table>\n",
       "<p>8 rows × 25 columns</p>\n",
       "</div>"
      ],
      "text/plain": [
       "               wsid          elvt           lat           lon            yr  \\\n",
       "count  9.779168e+06  9.779168e+06  9.779168e+06  9.779168e+06  9.779168e+06   \n",
       "mean   3.592531e+02  5.940923e+02 -2.023082e+01 -4.464590e+01  2.011164e+03   \n",
       "std    3.901630e+01  3.980379e+02  3.172643e+00  4.882117e+00  3.207774e+00   \n",
       "min    1.780000e+02  0.000000e+00 -2.496282e+01 -5.667732e+01  2.000000e+03   \n",
       "25%    3.280000e+02  2.830000e+02 -2.239580e+01 -4.743410e+01  2.009000e+03   \n",
       "50%    3.580000e+02  5.730000e+02 -2.075041e+01 -4.445378e+01  2.011000e+03   \n",
       "75%    3.940000e+02  8.750000e+02 -1.891707e+01 -4.243575e+01  2.014000e+03   \n",
       "max    4.230000e+02  1.758000e+03  0.000000e+00  0.000000e+00  2.016000e+03   \n",
       "\n",
       "                 mo            da            hr          prcp           stp  \\\n",
       "count  9.779168e+06  9.779168e+06  9.779168e+06  1.407984e+06  9.779168e+06   \n",
       "mean   6.521960e+00  1.575465e+01  1.150000e+01  9.366544e-01  8.804292e+02   \n",
       "std    3.425538e+00  8.802154e+00  6.922190e+00  2.923291e+00  2.482650e+02   \n",
       "min    1.000000e+00  1.000000e+00  0.000000e+00  0.000000e+00  0.000000e+00   \n",
       "25%    4.000000e+00  8.000000e+00  5.000000e+00  0.000000e+00  9.113000e+02   \n",
       "50%    7.000000e+00  1.600000e+01  1.200000e+01  0.000000e+00  9.442000e+02   \n",
       "75%    9.000000e+00  2.300000e+01  1.800000e+01  6.000000e-01  9.731000e+02   \n",
       "max    1.200000e+01  3.100000e+01  2.300000e+01  1.000000e+02  1.050000e+03   \n",
       "\n",
       "       ...          tmax          dmax          tmin          dmin  \\\n",
       "count  ...  9.779142e+06  9.778858e+06  9.779134e+06  9.778361e+06   \n",
       "mean   ...  2.110503e+01  1.524025e+01  1.986418e+01  1.422089e+01   \n",
       "std    ...  7.545549e+00  5.866811e+00  7.134849e+00  5.777089e+00   \n",
       "min    ... -3.200000e+00 -1.000000e+01 -8.500000e+00 -1.000000e+01   \n",
       "25%    ...  1.820000e+01  1.270000e+01  1.720000e+01  1.160000e+01   \n",
       "50%    ...  2.190000e+01  1.660000e+01  2.080000e+01  1.560000e+01   \n",
       "75%    ...  2.580000e+01  1.940000e+01  2.420000e+01  1.840000e+01   \n",
       "max    ...  4.500000e+01  4.480000e+01  4.500000e+01  4.490000e+01   \n",
       "\n",
       "               hmdy          hmax          hmin          wdsp          wdct  \\\n",
       "count  9.779168e+06  9.779156e+06  9.779124e+06  8.853607e+06  9.779168e+06   \n",
       "mean   6.726667e+01  6.996991e+01  6.441965e+01  1.998156e+00  1.385991e+02   \n",
       "std    2.654213e+01  2.643371e+01  2.656550e+01  1.618531e+00  1.052018e+02   \n",
       "min    0.000000e+00  0.000000e+00  0.000000e+00  0.000000e+00  0.000000e+00   \n",
       "25%    5.300000e+01  5.800000e+01  4.900000e+01  8.000000e-01  5.600000e+01   \n",
       "50%    7.400000e+01  7.800000e+01  7.000000e+01  1.700000e+00  1.140000e+02   \n",
       "75%    8.900000e+01  9.100000e+01  8.600000e+01  2.900000e+00  2.160000e+02   \n",
       "max    1.000000e+02  1.000000e+02  1.000000e+02  1.980000e+01  3.600000e+02   \n",
       "\n",
       "               gust  \n",
       "count  9.462694e+06  \n",
       "mean   4.494015e+00  \n",
       "std    2.981790e+00  \n",
       "min    0.000000e+00  \n",
       "25%    2.300000e+00  \n",
       "50%    4.200000e+00  \n",
       "75%    6.300000e+00  \n",
       "max    5.000000e+01  \n",
       "\n",
       "[8 rows x 25 columns]"
      ]
     },
     "execution_count": 3,
     "metadata": {},
     "output_type": "execute_result"
    }
   ],
   "source": [
    "data.describe()"
   ]
  },
  {
   "cell_type": "markdown",
   "metadata": {},
   "source": [
    "__wsid__:\n",
    "- Weather station id\n",
    "\n",
    "__wsnm__:\n",
    "- Name station (usually city location or nickname)\n",
    "\n",
    "__evlt__:\n",
    "- Elevation\n",
    "\n",
    "__elvt__:\n",
    "- Elevation\n",
    "\n",
    "__lat__:\n",
    "- Latitude\n",
    "\n",
    "__lon__:\n",
    "- Longitude\n",
    "\n",
    "__inme__:\n",
    "- Station number (INMET number) for the location\n",
    "\n",
    "__city__:\n",
    "- City\n",
    "\n",
    "__prov__:\n",
    "- State (Province)\n",
    "\n",
    "__date__:\n",
    "- Date of observation\n",
    "    \n",
    "__yr__:\n",
    "- The year (2000-2016)\n",
    "\n",
    "__mo__:\n",
    "- The month (0-12)\n",
    "\n",
    "__da__:\n",
    "- The day (0-31)\n",
    "\n",
    "__hr__:\n",
    "- The hour (0-23)\n",
    "\n",
    "__prcp__:\n",
    "- Amount of precipitation in millimetres (last hour)\n",
    "\n",
    "__stp__:\n",
    "- Air pressure for the hour in hPa to tenths (instant)\n",
    "\n",
    "__smax__:\n",
    "- Maximum air pressure for the last hour in hPa to tenths\n",
    "\n",
    "__smin__:\n",
    "- Minimum air pressure for the last hour in hPa to tenths\n",
    "\n",
    "__gbrd__:\n",
    "- Solar radiation KJ/m2\n",
    "\n",
    "__temp__:\n",
    "- Air temperature (instant) in celsius degrees\n",
    "\n",
    "__dewp__:\n",
    "- Dew point temperature (instant) in celsius degrees\n",
    "\n",
    "__dmax__:\n",
    "- Maximum dew point temperature for the last hour in celsius degrees\n",
    "\n",
    "__dmin__:\n",
    "- Minimum dew point temperature for the last hour in celsius degrees\n",
    "\n",
    "__hmax__:\n",
    "- Maximum relative humid temperature for the last hour in %\n",
    "\n",
    "__hmin__:\n",
    "- Minimum relative humid temperature for the last hour in %\n",
    "\n",
    "__wdsp__:\n",
    "- Wind speed in metres per second\n",
    "\n",
    "__wdct__:\n",
    "- Wind direction in radius degrees (0-360)\n",
    "\n",
    "__gust__:\n",
    "- Wind gust in metres per second\n",
    "---"
   ]
  },
  {
   "cell_type": "markdown",
   "metadata": {},
   "source": [
    "## Correlation Map"
   ]
  },
  {
   "cell_type": "code",
   "execution_count": 8,
   "metadata": {},
   "outputs": [
    {
     "data": {
      "text/plain": [
       "<AxesSubplot:>"
      ]
     },
     "execution_count": 8,
     "metadata": {},
     "output_type": "execute_result"
    },
    {
     "data": {
      "image/png": "[encoded data removed]",
      "text/plain": [
       "<Figure size 1080x936 with 2 Axes>"
      ]
     },
     "metadata": {
      "needs_background": "light"
     },
     "output_type": "display_data"
    }
   ],
   "source": [
    "plt.rcParams[\"figure.figsize\"] = [15,13]\n",
    "sbs.heatmap(data.corr())"
   ]
  },
  {
   "cell_type": "markdown",
   "metadata": {},
   "source": [
    "## Histogram"
   ]
  },
  {
   "cell_type": "code",
   "execution_count": 5,
   "metadata": {
    "scrolled": false
   },
   "outputs": [
    {
     "data": {
      "image/png": "[encoded data removed]",
      "text/plain": [
       "<Figure size 1368x720 with 25 Axes>"
      ]
     },
     "metadata": {
      "needs_background": "light"
     },
     "output_type": "display_data"
    }
   ],
   "source": [
    "plt.rcParams[\"figure.figsize\"] = [19,10]\n",
    "data.hist()\n",
    "plt.show()"
   ]
  },
  {
   "cell_type": "code",
   "execution_count": 65,
   "metadata": {},
   "outputs": [],
   "source": []
  },
  {
   "cell_type": "markdown",
   "metadata": {},
   "source": [
    "---"
   ]
  },
  {
   "cell_type": "markdown",
   "metadata": {},
   "source": [
    "# Predicting Amount of Precipitation of next 72 hours"
   ]
  },
  {
   "cell_type": "markdown",
   "metadata": {},
   "source": [
    "## From stp, temp, hmin, hmax, wdsp of last 12 hours"
   ]
  },
  {
   "cell_type": "code",
   "execution_count": 139,
   "metadata": {},
   "outputs": [],
   "source": [
    "X_data = data[['hr', 'stp', 'temp', 'hmin', 'hmax', 'wdsp']]\n",
    "Y_data = data[['prcp']]"
   ]
  },
  {
   "cell_type": "code",
   "execution_count": 140,
   "metadata": {},
   "outputs": [],
   "source": [
    "look_back = 12\n",
    "predict_forward = 72\n",
    "N = 500000\n",
    "\n",
    "X, Y = generate_np_data(X_data, Y_data, look_back, predict_forward, N, True)\n",
    "\n",
    "train_size = 0.8\n",
    "\n",
    "X_train, X_test = X[0:int(train_size * len(X))], X[int(train_size * len(X)):]\n",
    "y_train, y_test = Y[0:int(train_size * len(Y))], Y[int(train_size * len(Y)):]"
   ]
  },
  {
   "cell_type": "markdown",
   "metadata": {},
   "source": [
    "## Using Random Forest, N Trees = 100"
   ]
  },
  {
   "cell_type": "code",
   "execution_count": 141,
   "metadata": {},
   "outputs": [],
   "source": [
    "rf = RandomForestClassifier(n_estimators=100, n_jobs=8)"
   ]
  },
  {
   "cell_type": "code",
   "execution_count": 142,
   "metadata": {},
   "outputs": [
    {
     "data": {
      "text/plain": [
       "RandomForestClassifier(n_jobs=8)"
      ]
     },
     "execution_count": 142,
     "metadata": {},
     "output_type": "execute_result"
    }
   ],
   "source": [
    "s_x = X_train.shape\n",
    "\n",
    "rf.fit(X_train.reshape(s_x[0], s_x[1] * s_x[2]), y_train)"
   ]
  },
  {
   "cell_type": "code",
   "execution_count": 143,
   "metadata": {},
   "outputs": [
    {
     "data": {
      "image/png": "[encoded data removed]",
      "text/plain": [
       "<Figure size 720x576 with 2 Axes>"
      ]
     },
     "metadata": {
      "needs_background": "light"
     },
     "output_type": "display_data"
    }
   ],
   "source": [
    "sbs.heatmap(rf.feature_importances_.reshape(s_x[1], s_x[2])).set_title(\"Features Importances\")\n",
    "plt.show()"
   ]
  },
  {
   "cell_type": "markdown",
   "metadata": {},
   "source": [
    "### Results"
   ]
  },
  {
   "cell_type": "code",
   "execution_count": 144,
   "metadata": {},
   "outputs": [
    {
     "data": {
      "image/png": "[encoded data removed]",
      "text/plain": [
       "<Figure size 720x576 with 2 Axes>"
      ]
     },
     "metadata": {
      "needs_background": "light"
     },
     "output_type": "display_data"
    }
   ],
   "source": [
    "s_x = X_test.shape\n",
    "\n",
    "plt.rcParams[\"figure.figsize\"] = [10,8]\n",
    "plot_confusion_matrix(rf, X_test.reshape(s_x[0], s_x[1] * s_x[2]), y_test, normalize='pred', cmap=plt.cm.Blues)\n",
    "plt.title(\"Confusion Matrix\")\n",
    "plt.show()"
   ]
  },
  {
   "cell_type": "code",
   "execution_count": 145,
   "metadata": {},
   "outputs": [
    {
     "name": "stdout",
     "output_type": "stream",
     "text": [
      "              precision    recall  f1-score   support\n",
      "\n",
      "           0       0.91      0.77      0.83      2314\n",
      "           1       0.94      0.98      0.96      8553\n",
      "\n",
      "    accuracy                           0.93     10867\n",
      "   macro avg       0.93      0.87      0.90     10867\n",
      "weighted avg       0.93      0.93      0.93     10867\n",
      "\n"
     ]
    }
   ],
   "source": [
    "y_pred = rf.predict(X_test.reshape(s_x[0], s_x[1] * s_x[2]))\n",
    "print(classification_report(y_test, y_pred))"
   ]
  },
  {
   "cell_type": "markdown",
   "metadata": {},
   "source": [
    "---"
   ]
  },
  {
   "cell_type": "markdown",
   "metadata": {},
   "source": [
    "## Using Gaussian Naive Bayes"
   ]
  },
  {
   "cell_type": "code",
   "execution_count": 146,
   "metadata": {},
   "outputs": [],
   "source": [
    "nb = GaussianNB()"
   ]
  },
  {
   "cell_type": "code",
   "execution_count": 147,
   "metadata": {},
   "outputs": [
    {
     "data": {
      "text/plain": [
       "GaussianNB()"
      ]
     },
     "execution_count": 147,
     "metadata": {},
     "output_type": "execute_result"
    }
   ],
   "source": [
    "s_x = X_train.shape\n",
    "\n",
    "nb.fit(X_train.reshape(s_x[0], s_x[1] * s_x[2]), y_train)"
   ]
  },
  {
   "cell_type": "markdown",
   "metadata": {},
   "source": [
    "### Results"
   ]
  },
  {
   "cell_type": "code",
   "execution_count": 148,
   "metadata": {},
   "outputs": [
    {
     "data": {
      "image/png": "[encoded data removed]",
      "text/plain": [
       "<Figure size 720x576 with 2 Axes>"
      ]
     },
     "metadata": {
      "needs_background": "light"
     },
     "output_type": "display_data"
    }
   ],
   "source": [
    "s_x = X_test.shape\n",
    "\n",
    "plt.rcParams[\"figure.figsize\"] = [10,8]\n",
    "plot_confusion_matrix(nb, X_test.reshape(s_x[0], s_x[1] * s_x[2]), y_test, normalize='pred', cmap=plt.cm.Blues)\n",
    "plt.title(\"Confusion Matrix\")\n",
    "plt.show()"
   ]
  },
  {
   "cell_type": "code",
   "execution_count": 149,
   "metadata": {},
   "outputs": [
    {
     "name": "stdout",
     "output_type": "stream",
     "text": [
      "              precision    recall  f1-score   support\n",
      "\n",
      "           0       0.98      0.79      0.87      2314\n",
      "           1       0.95      0.99      0.97      8553\n",
      "\n",
      "    accuracy                           0.95     10867\n",
      "   macro avg       0.96      0.89      0.92     10867\n",
      "weighted avg       0.95      0.95      0.95     10867\n",
      "\n"
     ]
    }
   ],
   "source": [
    "y_pred = nb.predict(X_test.reshape(s_x[0], s_x[1] * s_x[2]))\n",
    "print(classification_report(y_test, y_pred))"
   ]
  },
  {
   "cell_type": "markdown",
   "metadata": {},
   "source": [
    "---"
   ]
  },
  {
   "cell_type": "markdown",
   "metadata": {},
   "source": [
    "## Using LSTM"
   ]
  },
  {
   "cell_type": "code",
   "execution_count": 150,
   "metadata": {},
   "outputs": [],
   "source": [
    "model = get_model_lstm(look_back, X_train.shape[2])"
   ]
  },
  {
   "cell_type": "code",
   "execution_count": 151,
   "metadata": {
    "scrolled": true
   },
   "outputs": [
    {
     "name": "stdout",
     "output_type": "stream",
     "text": [
      "Epoch 1/30\n",
      "680/680 [==============================] - 4s 6ms/step - loss: 0.2700 - acc: 0.9137 - val_loss: 0.2075 - val_acc: 0.9458\n",
      "Epoch 2/30\n",
      "680/680 [==============================] - 4s 6ms/step - loss: 0.2668 - acc: 0.9149 - val_loss: 0.2037 - val_acc: 0.9443\n",
      "Epoch 3/30\n",
      "680/680 [==============================] - 4s 6ms/step - loss: 0.2656 - acc: 0.9152 - val_loss: 0.2140 - val_acc: 0.9475\n",
      "Epoch 4/30\n",
      "680/680 [==============================] - 4s 6ms/step - loss: 0.2653 - acc: 0.9160 - val_loss: 0.2001 - val_acc: 0.9499\n",
      "Epoch 5/30\n",
      "680/680 [==============================] - 4s 6ms/step - loss: 0.2642 - acc: 0.9155 - val_loss: 0.2007 - val_acc: 0.9473\n",
      "Epoch 6/30\n",
      "680/680 [==============================] - 4s 6ms/step - loss: 0.2630 - acc: 0.9162 - val_loss: 0.2061 - val_acc: 0.9461\n",
      "Epoch 7/30\n",
      "680/680 [==============================] - 4s 6ms/step - loss: 0.2627 - acc: 0.9161 - val_loss: 0.2027 - val_acc: 0.9472\n",
      "Epoch 8/30\n",
      "680/680 [==============================] - 4s 6ms/step - loss: 0.2617 - acc: 0.9158 - val_loss: 0.2103 - val_acc: 0.9484\n",
      "Epoch 9/30\n",
      "680/680 [==============================] - 4s 6ms/step - loss: 0.2615 - acc: 0.9158 - val_loss: 0.2040 - val_acc: 0.9487\n",
      "Epoch 10/30\n",
      "680/680 [==============================] - 4s 6ms/step - loss: 0.2607 - acc: 0.9163 - val_loss: 0.2076 - val_acc: 0.9501\n",
      "Epoch 11/30\n",
      "680/680 [==============================] - 4s 6ms/step - loss: 0.2600 - acc: 0.9163 - val_loss: 0.1969 - val_acc: 0.9518\n",
      "Epoch 12/30\n",
      "680/680 [==============================] - 4s 6ms/step - loss: 0.2598 - acc: 0.9169 - val_loss: 0.2024 - val_acc: 0.9484\n",
      "Epoch 13/30\n",
      "680/680 [==============================] - 4s 6ms/step - loss: 0.2596 - acc: 0.9159 - val_loss: 0.2053 - val_acc: 0.9482\n",
      "Epoch 14/30\n",
      "680/680 [==============================] - 4s 6ms/step - loss: 0.2591 - acc: 0.9168 - val_loss: 0.2362 - val_acc: 0.9486\n",
      "Epoch 15/30\n",
      "680/680 [==============================] - 4s 6ms/step - loss: 0.2606 - acc: 0.9164 - val_loss: 0.1988 - val_acc: 0.9502\n",
      "Epoch 16/30\n",
      "680/680 [==============================] - 4s 6ms/step - loss: 0.2598 - acc: 0.9165 - val_loss: 0.1990 - val_acc: 0.9495\n",
      "Epoch 17/30\n",
      "680/680 [==============================] - 4s 5ms/step - loss: 0.2582 - acc: 0.9162 - val_loss: 0.2027 - val_acc: 0.9494\n",
      "Epoch 18/30\n",
      "680/680 [==============================] - 4s 6ms/step - loss: 0.2584 - acc: 0.9167 - val_loss: 0.2030 - val_acc: 0.9480\n",
      "Epoch 19/30\n",
      "680/680 [==============================] - 4s 5ms/step - loss: 0.2588 - acc: 0.9168 - val_loss: 0.2341 - val_acc: 0.9504\n",
      "Epoch 20/30\n",
      "680/680 [==============================] - 3s 5ms/step - loss: 0.2585 - acc: 0.9169 - val_loss: 0.2002 - val_acc: 0.9458\n",
      "Epoch 21/30\n",
      "680/680 [==============================] - 4s 6ms/step - loss: 0.2578 - acc: 0.9165 - val_loss: 0.2040 - val_acc: 0.9476\n",
      "Epoch 22/30\n",
      "680/680 [==============================] - 4s 6ms/step - loss: 0.2573 - acc: 0.9168 - val_loss: 0.1998 - val_acc: 0.9516\n",
      "Epoch 23/30\n",
      "680/680 [==============================] - 4s 6ms/step - loss: 0.2569 - acc: 0.9171 - val_loss: 0.2020 - val_acc: 0.9516\n",
      "Epoch 24/30\n",
      "680/680 [==============================] - 4s 6ms/step - loss: 0.2568 - acc: 0.9168 - val_loss: 0.1987 - val_acc: 0.9521\n",
      "Epoch 25/30\n",
      "680/680 [==============================] - 4s 6ms/step - loss: 0.2562 - acc: 0.9173 - val_loss: 0.1972 - val_acc: 0.9510\n",
      "Epoch 26/30\n",
      "680/680 [==============================] - 4s 6ms/step - loss: 0.2561 - acc: 0.9173 - val_loss: 0.2219 - val_acc: 0.9485\n",
      "Epoch 27/30\n",
      "680/680 [==============================] - 4s 6ms/step - loss: 0.2563 - acc: 0.9171 - val_loss: 0.2072 - val_acc: 0.9478\n",
      "Epoch 28/30\n",
      "680/680 [==============================] - 4s 6ms/step - loss: 0.2564 - acc: 0.9174 - val_loss: 0.1999 - val_acc: 0.9485\n",
      "Epoch 29/30\n",
      "680/680 [==============================] - 4s 6ms/step - loss: 0.2562 - acc: 0.9175 - val_loss: 0.2021 - val_acc: 0.9487\n",
      "Epoch 30/30\n",
      "680/680 [==============================] - 4s 5ms/step - loss: 0.2555 - acc: 0.9175 - val_loss: 0.1989 - val_acc: 0.9501\n"
     ]
    },
    {
     "data": {
      "text/plain": [
       "<tensorflow.python.keras.callbacks.History at 0x7f0ac13bcca0>"
      ]
     },
     "execution_count": 151,
     "metadata": {},
     "output_type": "execute_result"
    }
   ],
   "source": [
    "model.fit(X_train, y_train, validation_data = (X_test, y_test), batch_size=64, epochs=30)"
   ]
  },
  {
   "cell_type": "code",
   "execution_count": 153,
   "metadata": {},
   "outputs": [
    {
     "name": "stdout",
     "output_type": "stream",
     "text": [
      "              precision    recall  f1-score   support\n",
      "\n",
      "           0       0.97      0.79      0.87      2314\n",
      "           1       0.95      0.99      0.97      8553\n",
      "\n",
      "    accuracy                           0.95     10867\n",
      "   macro avg       0.96      0.89      0.92     10867\n",
      "weighted avg       0.95      0.95      0.95     10867\n",
      "\n"
     ]
    }
   ],
   "source": [
    "y_pred = model.predict(X_test) > 0.5\n",
    "print(classification_report(y_test, y_pred))"
   ]
  },
  {
   "cell_type": "code",
   "execution_count": null,
   "metadata": {},
   "outputs": [],
   "source": []
  }
 ],
 "metadata": {
  "kernelspec": {
   "display_name": "Python 3",
   "language": "python",
   "name": "python3"
  },
  "language_info": {
   "codemirror_mode": {
    "name": "ipython",
    "version": 3
   },
   "file_extension": ".py",
   "mimetype": "text/x-python",
   "name": "python",
   "nbconvert_exporter": "python",
   "pygments_lexer": "ipython3",
   "version": "3.8.5"
  }
 },
 "nbformat": 4,
 "nbformat_minor": 4
}
